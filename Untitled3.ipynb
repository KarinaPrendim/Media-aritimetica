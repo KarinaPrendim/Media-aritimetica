{
  "nbformat": 4,
  "nbformat_minor": 0,
  "metadata": {
    "colab": {
      "provenance": [],
      "authorship_tag": "ABX9TyM/WxBsi21Clm4Z/FVA17da",
      "include_colab_link": true
    },
    "kernelspec": {
      "name": "python3",
      "display_name": "Python 3"
    },
    "language_info": {
      "name": "python"
    }
  },
  "cells": [
    {
      "cell_type": "markdown",
      "metadata": {
        "id": "view-in-github",
        "colab_type": "text"
      },
      "source": [
        "<a href=\"https://colab.research.google.com/github/KarinaPrendim/Media-aritimetica/blob/main/Untitled3.ipynb\" target=\"_parent\"><img src=\"https://colab.research.google.com/assets/colab-badge.svg\" alt=\"Open In Colab\"/></a>"
      ]
    },
    {
      "cell_type": "code",
      "execution_count": null,
      "metadata": {
        "id": "H8Oeh8GI3omx"
      },
      "outputs": [],
      "source": []
    },
    {
      "cell_type": "markdown",
      "source": [
        "#Operadores Ariméticos\n"
      ],
      "metadata": {
        "id": "UVFoHHUW3piI"
      }
    },
    {
      "cell_type": "code",
      "source": [
        "n1= int(input('Um valor: '))\n",
        "n2= int(input('Outro valor: '))\n",
        "s= n1+n2\n",
        "m= n1*n2\n",
        "d= n1/n2\n",
        "di= n1//n2\n",
        "e= n1**n2\n",
        "print('A soma é {}, o produto é {} e a divisão é {:.3f}'.format(s, m, d))\n",
        "print('Divisão inteira {} e potencia é {}'. format(di, e))"
      ],
      "metadata": {
        "colab": {
          "base_uri": "https://localhost:8080/"
        },
        "id": "E47WzGvj3u-x",
        "outputId": "ccb54682-f6ee-4323-89d4-3c841b84b4d6"
      },
      "execution_count": 10,
      "outputs": [
        {
          "output_type": "stream",
          "name": "stdout",
          "text": [
            "Um valor: 4\n",
            "Outro valor: 3\n",
            "A soma é 7, o produto é 12 e a divisão é 1.333\n",
            "Divisão inteira 1 e potencia é 64\n"
          ]
        }
      ]
    },
    {
      "cell_type": "markdown",
      "source": [
        "#Teste"
      ],
      "metadata": {
        "id": "aHih3Qoq8C_c"
      }
    },
    {
      "cell_type": "code",
      "source": [
        "n1= int(input('Uma valor: '))\n",
        "antesessor= n1-1\n",
        "sucessor= n1-2\n",
        "print('O valor do sucessor: '+ repr(sucessor))\n",
        "print('O valor do antesessor: '+ repr(antesessor))\n",
        "print()"
      ],
      "metadata": {
        "colab": {
          "base_uri": "https://localhost:8080/"
        },
        "id": "3mPWR8Nq972B",
        "outputId": "b7cd0959-de36-4a06-cd0d-168a3de421f5"
      },
      "execution_count": 15,
      "outputs": [
        {
          "output_type": "stream",
          "name": "stdout",
          "text": [
            "Uma valor: 30\n",
            "O valor do sucessor: 28\n",
            "O valor do antesessor: 29\n",
            "\n"
          ]
        }
      ]
    },
    {
      "cell_type": "markdown",
      "source": [
        "#Teste 2"
      ],
      "metadata": {
        "id": "eqQ6oevcAcft"
      }
    },
    {
      "cell_type": "code",
      "source": [
        "n1= int(input('Digite o valor: '))\n",
        "d= n1 * 2\n",
        "t= n1 * 3\n",
        "r= n1 **(1/2)\n",
        "print('O dobro de {} é {}'. format(n1,d))\n",
        "print('O triplo de {} e a raiz quadrada é {}'. format(n1, t, r))\n"
      ],
      "metadata": {
        "colab": {
          "base_uri": "https://localhost:8080/"
        },
        "id": "G_T1WyZBGY_Q",
        "outputId": "b85a61de-929d-4056-fd79-e528a10bafd4"
      },
      "execution_count": 2,
      "outputs": [
        {
          "output_type": "stream",
          "name": "stdout",
          "text": [
            "Digite o valor: 25\n",
            "O dobro de 25 é 50\n",
            "O triplo de 25 e a raiz quadrada é 75\n"
          ]
        }
      ]
    },
    {
      "cell_type": "markdown",
      "source": [
        "#Média Aritimética"
      ],
      "metadata": {
        "id": "0ixGvg7w227G"
      }
    },
    {
      "cell_type": "code",
      "source": [
        "n1= float(input('Primeira nota do aluno: '))\n",
        "n2= float(input('Segunda nota do aluno: '))\n",
        "media= (n1+n2)/2\n",
        "print('A média entre {} e {} é igual {}'. format(n1, n2, media))\n",
        "\n"
      ],
      "metadata": {
        "colab": {
          "base_uri": "https://localhost:8080/"
        },
        "id": "SMYkku9028lm",
        "outputId": "792b7e2f-6f5e-4873-8013-b9dcd3086257"
      },
      "execution_count": 4,
      "outputs": [
        {
          "output_type": "stream",
          "name": "stdout",
          "text": [
            "Primeira nota do aluno: 8\n",
            "Segunda nota do aluno: 4\n",
            "A média entre 8.0 e 4.0 é igual 6.0\n"
          ]
        }
      ]
    }
  ]
}